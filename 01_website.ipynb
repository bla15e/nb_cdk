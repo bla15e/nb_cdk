{
 "cells": [
  {
   "cell_type": "code",
   "execution_count": null,
   "metadata": {},
   "outputs": [],
   "source": [
    "#default_exp website"
   ]
  },
  {
   "cell_type": "markdown",
   "metadata": {},
   "source": [
    "# Website\n",
    "\n",
    "> My static website"
   ]
  },
  {
   "cell_type": "code",
   "execution_count": null,
   "metadata": {},
   "outputs": [],
   "source": [
    "#hide\n",
    "from nbdev.showdoc import *\n"
   ]
  },
  {
   "cell_type": "code",
   "execution_count": null,
   "metadata": {},
   "outputs": [],
   "source": [
    "#export\n",
    "from nb_cdk.iseninja import IseNinjaStack\n",
    "\n",
    "from aws_cdk import (\n",
    "    aws_apigateway,\n",
    "    aws_cloudfront,\n",
    "    aws_route53,\n",
    "    aws_route53_targets,\n",
    "    aws_s3,\n",
    "    aws_s3_assets,\n",
    "    aws_s3_deployment,\n",
    "    core\n",
    ")"
   ]
  },
  {
   "cell_type": "code",
   "execution_count": null,
   "metadata": {},
   "outputs": [
    {
     "ename": "NameError",
     "evalue": "name 'IseNinjaStack' is not defined",
     "output_type": "error",
     "traceback": [
      "\u001b[1;31m---------------------------------------------------------------------------\u001b[0m",
      "\u001b[1;31mNameError\u001b[0m                                 Traceback (most recent call last)",
      "\u001b[1;32m<ipython-input-1-145fc49358fc>\u001b[0m in \u001b[0;36m<module>\u001b[1;34m\u001b[0m\n\u001b[0;32m      1\u001b[0m \u001b[1;31m#export\u001b[0m\u001b[1;33m\u001b[0m\u001b[1;33m\u001b[0m\u001b[1;33m\u001b[0m\u001b[0m\n\u001b[0;32m      2\u001b[0m \u001b[1;33m\u001b[0m\u001b[0m\n\u001b[1;32m----> 3\u001b[1;33m \u001b[1;32mclass\u001b[0m \u001b[0mWebsiteStack\u001b[0m\u001b[1;33m(\u001b[0m\u001b[0mIseNinjaStack\u001b[0m\u001b[1;33m)\u001b[0m\u001b[1;33m:\u001b[0m\u001b[1;33m\u001b[0m\u001b[1;33m\u001b[0m\u001b[0m\n\u001b[0m\u001b[0;32m      4\u001b[0m     \"\"\"\n\u001b[0;32m      5\u001b[0m     \u001b[0mStack\u001b[0m \u001b[0mcontaining\u001b[0m \u001b[0mresources\u001b[0m \u001b[1;32mfor\u001b[0m \u001b[0mmy\u001b[0m \u001b[0mpersonal\u001b[0m \u001b[0mwebsite\u001b[0m\u001b[1;33m\u001b[0m\u001b[1;33m\u001b[0m\u001b[0m\n",
      "\u001b[1;31mNameError\u001b[0m: name 'IseNinjaStack' is not defined"
     ]
    }
   ],
   "source": [
    "#export\n",
    "\n",
    "class WebsiteStack(IseNinjaStack):\n",
    "    \"\"\"\n",
    "    Stack containing resources for my personal website\n",
    "    \"\"\"\n",
    "    def __init__(self, app: core.App, id: str, **kwargs) -> None:\n",
    "        super().__init__(app, id, **kwargs)\n",
    "\n",
    "        site_name = \"IseNinjaHomePage\"\n",
    "\n",
    "        # Create S3 Bucket\n",
    "        iseNinjaBucket = self.__build_site_bucket(site_name)\n",
    "        core.CfnOutput(self, \"IseNinjaBucketArn\", value=iseNinjaBucket.bucket_arn)\n",
    "\n",
    "\n",
    "        iseNinjaDistribution = self.__build_cloudfront_distribution(site_name, iseNinjaBucket)\n",
    "        core.CfnOutput(self, \"IseNinjaDistributionId\", value=iseNinjaDistribution.distribution_id)\n",
    "\n",
    "        # Create Route53 Mapping\n",
    "        # ise.ninja -> CloudFrontDistribution\n",
    "        aws_route53.ARecord(self, \"IseNinjaRecord\", record_name=\"ise.ninja\", zone=self._hosted_zone, \n",
    "        target= aws_route53.RecordTarget.from_alias(aws_route53_targets.CloudFrontTarget(iseNinjaDistribution)))\n",
    "\n",
    "        # Initial Deployment of our website resources\n",
    "        aws_s3_deployment.BucketDeployment(self, \"IseNinjaDeployment\", \n",
    "          sources=[aws_s3_deployment.Source.asset('./website')],\n",
    "          destination_bucket=iseNinjaBucket,\n",
    "          distribution=iseNinjaDistribution,\n",
    "          distribution_paths=[\"/*\"])\n",
    "        \n",
    "\n",
    "    def __build_site_bucket(self, site_name: str):\n",
    "        name = site_name + \"Bucket\"\n",
    "        return aws_s3.Bucket(self, name,\n",
    "          bucket_name=\"ise.ninja\",\n",
    "          website_index_document=\"index.html\",\n",
    "          website_error_document=\"error.html\",\n",
    "          public_read_access=True)\n",
    "\n",
    "    def __build_cloudfront_distribution(self, site_name: str, bucket: aws_s3.Bucket):\n",
    "        name = site_name + \"Distribution\"\n",
    "\n",
    "        return aws_cloudfront.CloudFrontWebDistribution(self, name, \n",
    "          alias_configuration=aws_cloudfront.AliasConfiguration(\n",
    "            acm_cert_ref = self._cert.certificate_arn,\n",
    "            names = [\"ise.ninja\"],\n",
    "            ssl_method=aws_cloudfront.SSLMethod.SNI,\n",
    "            security_policy=aws_cloudfront.SecurityPolicyProtocol.TLS_V1_1_2016),\n",
    "          origin_configs=[\n",
    "             aws_cloudfront.SourceConfiguration(\n",
    "                 custom_origin_source=aws_cloudfront.CustomOriginConfig(\n",
    "                     domain_name=bucket.bucket_website_domain_name,\n",
    "                     origin_protocol_policy=aws_cloudfront.OriginProtocolPolicy.HTTP_ONLY\n",
    "                 ),\n",
    "                 behaviors=[\n",
    "                     aws_cloudfront.Behavior(\n",
    "                         is_default_behavior=True\n",
    "                     )\n",
    "                 ]\n",
    "             )\n",
    "          ])\n"
   ]
  },
  {
   "cell_type": "code",
   "execution_count": null,
   "metadata": {},
   "outputs": [
    {
     "name": "stdout",
     "output_type": "stream",
     "text": [
      "Initializing App...\nCreating Website\nSynthezing Application\n"
     ]
    },
    {
     "data": {
      "text/plain": [
       "<aws_cdk.cx_api.CloudAssembly at 0x2961d28ccd0>"
      ]
     },
     "execution_count": null,
     "metadata": {},
     "output_type": "execute_result"
    }
   ],
   "source": [
    "print(\"Initializing App...\")\n",
    "app = core.App()\n",
    "\n",
    "print(\"Creating Website\")\n",
    "website = WebsiteStack(app, \"PersonalWebsite\")\n",
    "\n",
    "print(\"Synthezing Application\")\n",
    "app.synth()"
   ]
  }
 ],
 "metadata": {
  "kernelspec": {
   "display_name": "Python 3.8.5 64-bit (conda)",
   "metadata": {
    "interpreter": {
     "hash": "472d66035bf347f2c7c66eb70622e8ba30bfa34d12bb8d8112f90b6852423e6f"
    }
   },
   "name": "python3"
  }
 },
 "nbformat": 4,
 "nbformat_minor": 2
}
