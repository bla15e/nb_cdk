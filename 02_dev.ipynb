{
 "cells": [
  {
   "cell_type": "code",
   "execution_count": null,
   "metadata": {},
   "outputs": [],
   "source": [
    "#default_exp dev"
   ]
  },
  {
   "cell_type": "markdown",
   "metadata": {},
   "source": [
    "# DevStack\n",
    "\n",
    "> Stack containg resources for remote development"
   ]
  },
  {
   "cell_type": "code",
   "execution_count": null,
   "metadata": {},
   "outputs": [],
   "source": [
    "#hide\n",
    "from nbdev.showdoc import *\n"
   ]
  },
  {
   "cell_type": "code",
   "execution_count": null,
   "metadata": {},
   "outputs": [],
   "source": [
    "#export\n",
    "from nb_cdk.iseninja import IseNinjaStack\n",
    "\n",
    "from aws_cdk.aws_s3_assets import Asset\n",
    "\n",
    "from aws_cdk import (\n",
    "    aws_ec2,\n",
    "    aws_iam,\n",
    "    core\n",
    ")"
   ]
  },
  {
   "cell_type": "code",
   "execution_count": null,
   "metadata": {},
   "outputs": [],
   "source": [
    "#export\n",
    "\n",
    "class DevStack(IseNinjaStack):\n",
    "    \"\"\"\n",
    "    Stack Contain Resources for setting up my Dev Host\n",
    "    \"\"\"\n",
    "    def __init__(self, app: core.App, id: str, **kwargs) -> None:\n",
    "        super().__init__(app, id, **kwargs)\n",
    "\n",
    "        vpc = self.__build_vpc()\n",
    "        machine_image = self.__build_linux_image()\n",
    "        role = self.__build_dev_host_role()\n",
    "\n",
    "        host = self.__build_dev_host(machine_image, vpc, role)\n",
    "\n",
    "        asset = Asset(self, \"DevConfigureScript\", path=\"./assets/configure-dev-instance.sh\")\n",
    "        local_path = host.user_data.add_s3_download_command(\n",
    "            bucket=asset.bucket,\n",
    "            bucket_key=asset.s3_object_key)\n",
    "        host.user_data.\n",
    "\n",
    "        # Userdata executes script from S3\n",
    "        host.user_data.add_execute_file_command(file_path=local_path)\n",
    "        asset.grant_read(host.role)\n",
    "\n",
    "\n",
    "    def __build_vpc(self):\n",
    "        return aws_ec2.Vpc(self, \"VPC\",\n",
    "            nat_gateways=0,\n",
    "            subnet_configuration=[aws_ec2.SubnetConfiguration(name=\"public\",subnet_type=aws_ec2.SubnetType.PUBLIC)])\n",
    "\n",
    "    def __build_linux_image(self):\n",
    "        return aws_ec2.MachineImage.latest_amazon_linux(\n",
    "            generation=aws_ec2.AmazonLinuxGeneration.AMAZON_LINUX_2,\n",
    "            edition=aws_ec2.AmazonLinuxEdition.STANDARD,\n",
    "            virtualization=aws_ec2.AmazonLinuxVirt.HVM,\n",
    "            storage=aws_ec2.AmazonLinuxStorage.GENERAL_PURPOSE)\n",
    "\n",
    "    def __build_dev_host_role(self):\n",
    "        # Instance Role and SSM Managed Policy\n",
    "        role = aws_iam.Role(self, \"DevHostRole\", assumed_by=aws_iam.ServicePrincipal(\"ec2.amazonaws.com\"))\n",
    "\n",
    "        role.add_managed_policy(aws_iam.ManagedPolicy.from_aws_managed_policy_name(\"service-role/AmazonEC2RoleforSSM\"))\n",
    "\n",
    "        return role\n",
    "\n",
    "    def __build_dev_host(self, machine_image, vpc, role):\n",
    "        return aws_ec2.Instance(self, \"DevHost\",\n",
    "            instance_type=aws_ec2.InstanceType(\"t3.nano\"),\n",
    "            machine_image=machine_image,\n",
    "            vpc = vpc,\n",
    "            role = role)        "
   ]
  },
  {
   "cell_type": "code",
   "execution_count": null,
   "metadata": {},
   "outputs": [
    {
     "name": "stdout",
     "output_type": "stream",
     "text": [
      "Initializing App...\nCreating Website\nSynthesizing Application\n"
     ]
    },
    {
     "data": {
      "text/plain": [
       "<aws_cdk.cx_api.CloudAssembly at 0x1bb52967cd0>"
      ]
     },
     "execution_count": null,
     "metadata": {},
     "output_type": "execute_result"
    }
   ],
   "source": [
    "app = core.App()\n",
    "\n",
    "website = DevStack(app, \"DevStack\")\n",
    "\n",
    "app.synth()"
   ]
  }
 ],
 "metadata": {
  "kernelspec": {
   "display_name": "Python 3.8.5 64-bit (conda)",
   "metadata": {
    "interpreter": {
     "hash": "472d66035bf347f2c7c66eb70622e8ba30bfa34d12bb8d8112f90b6852423e6f"
    }
   },
   "name": "python3"
  }
 },
 "nbformat": 4,
 "nbformat_minor": 2
}
