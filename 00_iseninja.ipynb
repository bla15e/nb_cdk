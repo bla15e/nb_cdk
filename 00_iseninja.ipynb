{
 "cells": [
  {
   "cell_type": "code",
   "execution_count": null,
   "metadata": {},
   "outputs": [],
   "source": [
    "#default_exp iseninja"
   ]
  },
  {
   "cell_type": "markdown",
   "metadata": {},
   "source": [
    "# IseNinja\n",
    "\n",
    "> Base resources for projects deployed to ise.ninja"
   ]
  },
  {
   "cell_type": "code",
   "execution_count": null,
   "metadata": {},
   "outputs": [],
   "source": [
    "#hide\n",
    "from nbdev.showdoc import *"
   ]
  },
  {
   "cell_type": "code",
   "execution_count": null,
   "metadata": {},
   "outputs": [],
   "source": [
    "#export\n",
    "import yaml\n",
    "\n",
    "from aws_cdk import (\n",
    "    aws_apigateway,\n",
    "    aws_certificatemanager,\n",
    "    aws_route53,\n",
    "    aws_route53_targets,\n",
    "    core\n",
    ")"
   ]
  },
  {
   "cell_type": "code",
   "execution_count": null,
   "metadata": {},
   "outputs": [
    {
     "name": "stdout",
     "output_type": "stream",
     "text": [
      "123456789\n"
     ]
    }
   ],
   "source": [
    "config = yaml.safe_load(open(\"./config/config.yml\"))\n",
    "print(config[\"AWS_ACCOUNT_ID\"])"
   ]
  },
  {
   "cell_type": "code",
   "execution_count": null,
   "metadata": {},
   "outputs": [],
   "source": [
    "#export\n",
    "config = yaml.safe_load(open(\"./config/config.yml\"))\n",
    "ACCOUNT=config[\"AWS_ACCOUNT_ID\"]\n",
    "ZONE_NAME = config[\"ISENINJA_ZONE_NAME\"]\n",
    "ZONE_ID = config[\"ISENINJA_ZONE_ID\"]\n",
    "ZONE_CERT = config[\"ISENINJA_ZONE_CERT\"]\n",
    "\n",
    "class IseNinjaStack(core.Stack):\n",
    "    \"\"\"\n",
    "    Base CDK Stack for all stacks associated with ise.ninja\n",
    "    \"\"\"\n",
    "    def __init__(self, app: core.App, id: str, **kwargs) -> None:\n",
    "        super().__init__(app, id, **kwargs)\n",
    "\n",
    "        self._cert = aws_certificatemanager.Certificate.from_certificate_arn(self, 'DomainCertificate', ZONE_CERT)\n",
    "\n",
    "        self._hosted_zone = aws_route53.HostedZone.from_hosted_zone_attributes(self, 'HostedZone',\n",
    "                                                                         hosted_zone_id=ZONE_ID,\n",
    "                                                                         zone_name=ZONE_NAME)\n",
    "\n",
    "\n",
    "    def map_iseninja_subdomain_apigateway(self, subdomain: str, api: aws_apigateway.RestApi) -> str:\n",
    "        \"\"\"\n",
    "        Maps a sub-domain of ise.ninja to an API gateway\n",
    "        :param subdomain: The sub-domain (e.g. \"api\")\n",
    "        :param api: The API gateway endpoint\n",
    "        :return: The base url (e.g. \"https://api.ise.ninja\")\n",
    "        \"\"\"\n",
    "        domain_name = subdomain + '.' + ZONE_NAME\n",
    "        arecord_name = subdomain + \"ISENINJADomain\"\n",
    "        construct_name = arecord_name + \"Construct\"\n",
    "        url = 'https://' + domain_name\n",
    "\n",
    "        # add the domain name to the api and the A record to our hosted zone\n",
    "        domain = api.add_domain_name(construct_name, certificate=self._cert, domain_name=domain_name)\n",
    "\n",
    "        aws_route53.ARecord(\n",
    "            self, arecord_name,\n",
    "            record_name=subdomain,\n",
    "            zone=self._hosted_zone,\n",
    "            target=aws_route53.RecordTarget.from_alias(aws_route53_targets.ApiGatewayDomain(domain)))\n",
    "\n",
    "        return url"
   ]
  }
 ],
 "metadata": {
  "kernelspec": {
   "display_name": "Python 3.8.5 64-bit ('Blais': virtualenv)",
   "metadata": {
    "interpreter": {
     "hash": "472d66035bf347f2c7c66eb70622e8ba30bfa34d12bb8d8112f90b6852423e6f"
    }
   },
   "name": "python3"
  }
 },
 "nbformat": 4,
 "nbformat_minor": 2
}
